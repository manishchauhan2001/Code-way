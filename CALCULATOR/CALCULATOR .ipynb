{
 "cells": [
  {
   "cell_type": "code",
   "execution_count": null,
   "id": "8259359e",
   "metadata": {},
   "outputs": [
    {
     "name": "stdout",
     "output_type": "stream",
     "text": [
      "Enter the first number: 45\n",
      "Enter the second number: 34\n",
      "opt operation (+, -, *, /): -\n",
      "Result: 11.0\n",
      "Enter the first number: 78\n",
      "Enter the second number: 13\n",
      "opt operation (+, -, *, /): *\n",
      "Result: 1014.0\n",
      "Enter the first number: 84\n",
      "Enter the second number: 7\n",
      "opt operation (+, -, *, /): /\n",
      "Result: 12.0\n"
     ]
    }
   ],
   "source": [
    "def add(x, y):\n",
    "    return x + y\n",
    "\n",
    "def sub(x, y):\n",
    "    return x - y\n",
    "\n",
    "def mul(x, y):\n",
    "    return x * y\n",
    "\n",
    "def div(x, y):\n",
    "    if y != 0:\n",
    "        return x / y\n",
    "    else:\n",
    "        return \"cannot divide by Zero.\"\n",
    "\n",
    "while True:\n",
    "    try:\n",
    "        num1 = float(input(\"Enter the first number: \"))\n",
    "        num2 = float(input(\"Enter the second number: \"))\n",
    "    except ValueError:\n",
    "        print(\"Please enter numerical values.\")\n",
    "        continue\n",
    "    operation = input(\"opt operation (+, -, *, /): \")\n",
    "    if operation == '+':\n",
    "        result = add(num1, num2)\n",
    "    elif operation == '-':\n",
    "        result = sub(num1, num2)\n",
    "    elif operation == '*':\n",
    "        result = mul(num1, num2)\n",
    "    elif operation == '/':\n",
    "        result = div(num1, num2)\n",
    "    else:\n",
    "        print(\"Please choose +, -, *, or /.\")\n",
    "        continue\n",
    "    print(f\"Result: {result}\")"
   ]
  },
  {
   "cell_type": "code",
   "execution_count": null,
   "id": "74f893b4",
   "metadata": {},
   "outputs": [],
   "source": []
  },
  {
   "cell_type": "code",
   "execution_count": null,
   "id": "b7320c8e",
   "metadata": {},
   "outputs": [],
   "source": []
  },
  {
   "cell_type": "code",
   "execution_count": null,
   "id": "315896f0",
   "metadata": {},
   "outputs": [],
   "source": []
  },
  {
   "cell_type": "code",
   "execution_count": null,
   "id": "97ba9a7b",
   "metadata": {},
   "outputs": [],
   "source": []
  },
  {
   "cell_type": "markdown",
   "id": "e0bf120a",
   "metadata": {},
   "source": [
    " "
   ]
  }
 ],
 "metadata": {
  "kernelspec": {
   "display_name": "Python 3 (ipykernel)",
   "language": "python",
   "name": "python3"
  },
  "language_info": {
   "codemirror_mode": {
    "name": "ipython",
    "version": 3
   },
   "file_extension": ".py",
   "mimetype": "text/x-python",
   "name": "python",
   "nbconvert_exporter": "python",
   "pygments_lexer": "ipython3",
   "version": "3.9.12"
  }
 },
 "nbformat": 4,
 "nbformat_minor": 5
}
